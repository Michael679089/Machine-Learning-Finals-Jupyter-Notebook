{
  "cells": [
    {
      "cell_type": "markdown",
      "metadata": {
        "id": "3uVipM2ug8MN"
      },
      "source": [
        "Ako ay isang pinoy, sa puso't diwa"
      ]
    },
    {
      "cell_type": "code",
      "source": [
        "print(\"Hello World\")\n",
        "\n",
        "\n",
        "I'm a doopy doober,\n",
        "DOOBY DOOPER\n",
        "\n",
        "DOOOBY DOOPER!!!!!!!!!!!!!!!!!!!!!!!!!!!!!!!!!!!"
      ],
      "metadata": {
        "colab": {
          "base_uri": "https://localhost:8080/"
        },
        "id": "8YKmCehRg9Nb",
        "outputId": "64a01943-6ddf-4baf-da03-4a778ce6d902"
      },
      "execution_count": 1,
      "outputs": [
        {
          "output_type": "stream",
          "name": "stdout",
          "text": [
            "Hello World\n",
            "I am a mexican faggot, YEAAAAAAAAAAAAAAAAAAAAAAAAAAAAAAAAAAAAAAAAAAAAAAAAAAAH!\n"
          ]
        }
      ]
    }
  ],
  "metadata": {
    "language_info": {
      "name": "python"
    },
    "colab": {
      "provenance": []
    },
    "kernelspec": {
      "name": "python3",
      "display_name": "Python 3"
    }
  },
  "nbformat": 4,
  "nbformat_minor": 0
}